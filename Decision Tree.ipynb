{
 "cells": [
  {
   "cell_type": "code",
   "execution_count": 1,
   "metadata": {},
   "outputs": [],
   "source": [
    "import numpy as np\n",
    "from scipy import stats\n"
   ]
  },
  {
   "cell_type": "code",
   "execution_count": 2,
   "metadata": {},
   "outputs": [],
   "source": [
    "# Super Parameter\n",
    "# integer required \n",
    "CLocation = 1 # Center Location\n",
    "width = 5 # Width \n",
    "\n",
    "# CLocation -=1  # python arrat start at 0"
   ]
  },
  {
   "cell_type": "code",
   "execution_count": 3,
   "metadata": {},
   "outputs": [],
   "source": [
    "CuRichHEA = np.loadtxt(\"CuRichHEA_iSFE.txt\")\n",
    "EqHEA =  np.loadtxt(\"EqHEA_iSFE.txt\")\n",
    "NiRichHEA =  np.loadtxt(\"NiRichHEA_iSFE.txt\")\n",
    "Input_data = [CuRichHEA,EqHEA,NiRichHEA]"
   ]
  },
  {
   "cell_type": "code",
   "execution_count": 4,
   "metadata": {},
   "outputs": [],
   "source": [
    "class_num,row_num, col_num = np.shape(Input_data)"
   ]
  },
  {
   "cell_type": "code",
   "execution_count": 5,
   "metadata": {},
   "outputs": [],
   "source": [
    "Data = [[]for k in range(class_num * col_num)]\n",
    "for i in np.arange(class_num * col_num):\n",
    "    for j in np.arange(int(np.ceil(-width/2)),int(np.ceil(width/2)),1):\n",
    "        Data[i].append(Input_data[int(i/100)][:,(i+j)%100])\n",
    "Data = np.array(Data).reshape(class_num * col_num,-1)"
   ]
  },
  {
   "cell_type": "code",
   "execution_count": 6,
   "metadata": {},
   "outputs": [
    {
     "data": {
      "text/plain": [
       "array([[63.3887, 63.7202, 61.5197, ..., 62.8662, 57.5064, 61.8191],\n",
       "       [65.4667, 64.657 , 62.6772, ..., 62.1268, 57.7987, 62.7874],\n",
       "       [66.5339, 63.5015, 60.3742, ..., 61.1998, 58.8693, 63.4788],\n",
       "       ...,\n",
       "       [60.2634, 61.3227, 61.2815, ..., 59.7003, 58.5271, 61.7887],\n",
       "       [60.7295, 63.6544, 61.5947, ..., 59.657 , 57.3874, 62.7873],\n",
       "       [61.6192, 64.0097, 62.1902, ..., 60.1506, 58.5604, 63.197 ]])"
      ]
     },
     "execution_count": 6,
     "metadata": {},
     "output_type": "execute_result"
    }
   ],
   "source": [
    "CuRichHEA"
   ]
  },
  {
   "cell_type": "code",
   "execution_count": 7,
   "metadata": {
    "scrolled": true
   },
   "outputs": [
    {
     "data": {
      "text/plain": [
       "array([57.5064, 57.7987, 58.8693, 57.8797, 59.5288, 62.5889, 61.72  ,\n",
       "       62.2521, 63.5007, 62.8743, 62.9839, 61.9596, 59.8802, 60.5504,\n",
       "       60.9093, 58.5869, 56.7652, 57.1777, 57.1088, 58.2692, 58.5749,\n",
       "       58.4436, 59.8304, 61.913 , 62.3207, 61.6444, 61.7066, 62.1625,\n",
       "       62.3567, 62.011 , 63.6243, 62.1762, 62.7098, 62.817 , 62.1015,\n",
       "       61.4938, 61.5114, 58.5271, 57.3874, 58.5604, 61.8191, 62.7874,\n",
       "       63.4788, 63.5173, 63.6969, 63.9687, 63.1956, 63.8087, 64.3617,\n",
       "       64.0742, 62.264 , 62.0861, 61.117 , 61.1784, 59.6517, 57.4326,\n",
       "       57.4366, 59.6066, 60.4442, 60.6807, 60.0175, 61.8884, 63.5319,\n",
       "       64.8632, 65.1996, 64.4881, 63.4245, 64.5303, 62.9379, 61.8216,\n",
       "       63.2249, 61.322 , 62.0866, 64.4653, 63.4116, 63.2087, 64.0233,\n",
       "       61.7887, 62.7873, 63.197 , 63.3887, 65.4667, 66.5339, 64.3002,\n",
       "       63.4892, 62.5031, 62.4016, 62.0738, 60.8302, 59.7667, 59.3349,\n",
       "       60.482 , 59.5178, 61.5034, 60.0649, 57.8432, 57.9299, 57.5544,\n",
       "       57.415 , 57.5571, 56.9764, 58.003 , 61.0845, 61.3746, 61.3864,\n",
       "       59.8536, 61.3554, 61.5142, 61.8372, 60.4654, 63.4962, 64.5506,\n",
       "       64.7107, 63.5136, 62.4233, 60.812 , 62.7393, 60.2634, 60.7295,\n",
       "       61.6192, 63.7202, 64.657 , 63.5015, 63.4472, 62.5861, 62.9921,\n",
       "       62.339 , 62.3858, 63.5694, 64.7495, 63.9987, 64.698 , 63.8003,\n",
       "       63.5563, 62.9224, 60.8047, 58.4009, 57.4964, 56.8324, 58.0539,\n",
       "       58.0536, 57.4255, 57.3578, 58.2136, 60.7824, 60.6214, 58.3866,\n",
       "       59.6539, 60.3739, 60.0869, 59.4005, 56.3463, 57.6225, 58.565 ,\n",
       "       57.5738, 59.318 , 60.5211, 61.3227, 63.6544, 64.0097, 61.5197,\n",
       "       62.6772, 60.3742, 60.5762, 60.855 , 61.621 , 61.5374, 63.896 ,\n",
       "       64.3223, 64.6781, 62.8934, 62.9256, 63.7326, 64.0762, 62.7853,\n",
       "       58.3042, 57.4361, 57.9778, 57.1893, 55.6823, 55.4233, 55.6115,\n",
       "       57.6456, 59.1166, 60.2161, 59.169 , 59.4408, 59.2905, 59.1297,\n",
       "       58.842 , 59.6879, 58.4107, 59.8096, 59.465 , 59.92  , 61.4205,\n",
       "       62.6573, 61.2815, 61.5947, 62.1902])"
      ]
     },
     "execution_count": 7,
     "metadata": {},
     "output_type": "execute_result"
    }
   ],
   "source": [
    "# Check data\n",
    "Data[0] # CuRichHEA data column 98,99,0,1,2 (CLocation = 0,width =5)"
   ]
  },
  {
   "cell_type": "code",
   "execution_count": 8,
   "metadata": {},
   "outputs": [],
   "source": [
    "# Input data are ******* \n",
    "# Train label is The minimum shear stresses\n",
    "Label_true = np.array([[90]*100,[105]*100,[115]*100]).reshape(-1)\n"
   ]
  },
  {
   "cell_type": "code",
   "execution_count": 9,
   "metadata": {},
   "outputs": [],
   "source": [
    "from sklearn.model_selection import train_test_split\n",
    "\n",
    "Train_data, Test_data, Train_label, Test_label = train_test_split(Data, Label_true, test_size = 0.3)"
   ]
  },
  {
   "cell_type": "code",
   "execution_count": 10,
   "metadata": {},
   "outputs": [
    {
     "data": {
      "text/plain": [
       "DecisionTreeRegressor(criterion='mse', max_depth=None, max_features=None,\n",
       "                      max_leaf_nodes=None, min_impurity_decrease=0.0,\n",
       "                      min_impurity_split=None, min_samples_leaf=1,\n",
       "                      min_samples_split=2, min_weight_fraction_leaf=0.0,\n",
       "                      presort=False, random_state=None, splitter='best')"
      ]
     },
     "execution_count": 10,
     "metadata": {},
     "output_type": "execute_result"
    }
   ],
   "source": [
    "# Cross Validation (To be added)\n",
    "from sklearn import tree\n",
    "# Make a decision tree and train\n",
    "clf = tree.DecisionTreeRegressor(random_state=None)\n",
    "clf.fit(Train_data, Train_label)"
   ]
  },
  {
   "cell_type": "code",
   "execution_count": 11,
   "metadata": {
    "scrolled": false
   },
   "outputs": [
    {
     "data": {
      "text/plain": [
       "array([ 90.,  90., 105., 115.,  90.,  90., 115., 115.,  90., 115.,  90.,\n",
       "       115.,  90.,  90., 115., 105.,  90.,  90.,  90., 105., 105., 105.,\n",
       "       105., 105., 115., 105.,  90., 105., 115., 115., 105., 115., 115.,\n",
       "       115., 115., 115., 115., 115., 105., 105., 115., 115., 105., 115.,\n",
       "       115., 115., 105.,  90., 105., 115.,  90., 105., 115., 105., 115.,\n",
       "       105.,  90., 105.,  90.,  90., 105.,  90., 105.,  90., 105., 105.,\n",
       "        90., 115.,  90., 115., 115., 105.,  90., 115., 115., 115., 105.,\n",
       "       105., 115., 105., 115., 115.,  90., 105., 115.,  90.,  90., 105.,\n",
       "       115.,  90.])"
      ]
     },
     "execution_count": 11,
     "metadata": {},
     "output_type": "execute_result"
    }
   ],
   "source": [
    "clf.predict(Test_data)"
   ]
  },
  {
   "cell_type": "code",
   "execution_count": 12,
   "metadata": {},
   "outputs": [
    {
     "data": {
      "text/plain": [
       "0.6333333333333333"
      ]
     },
     "execution_count": 12,
     "metadata": {},
     "output_type": "execute_result"
    }
   ],
   "source": [
    "from sklearn.metrics import accuracy_score\n",
    "accuracy_score(Test_label,clf.predict(Test_data))"
   ]
  },
  {
   "cell_type": "code",
   "execution_count": 19,
   "metadata": {},
   "outputs": [
    {
     "data": {
      "text/plain": [
       "[Text(71.53846153846153, 208.38, 'X[33] <= 59.492\\nentropy = 103.629\\nsamples = 210\\nvalue = 103.881'),\n",
       " Text(22.892307692307693, 190.26, 'X[81] <= 63.204\\nentropy = 54.123\\nsamples = 48\\nvalue = 92.708'),\n",
       " Text(11.446153846153846, 172.14, 'entropy = 0.0\\nsamples = 41\\nvalue = 90.0'),\n",
       " Text(34.33846153846154, 172.14, 'X[123] <= 61.647\\nentropy = 76.531\\nsamples = 7\\nvalue = 108.571'),\n",
       " Text(22.892307692307693, 154.01999999999998, 'entropy = 0.0\\nsamples = 1\\nvalue = 90.0'),\n",
       " Text(45.784615384615385, 154.01999999999998, 'X[51] <= 63.773\\nentropy = 22.222\\nsamples = 6\\nvalue = 111.667'),\n",
       " Text(34.33846153846154, 135.89999999999998, 'entropy = 0.0\\nsamples = 4\\nvalue = 115.0'),\n",
       " Text(57.23076923076923, 135.89999999999998, 'entropy = 0.0\\nsamples = 2\\nvalue = 105.0'),\n",
       " Text(120.18461538461538, 190.26, 'X[193] <= 58.942\\nentropy = 70.352\\nsamples = 162\\nvalue = 107.191'),\n",
       " Text(80.12307692307692, 172.14, 'X[136] <= 61.229\\nentropy = 69.0\\nsamples = 20\\nvalue = 94.0'),\n",
       " Text(68.67692307692307, 154.01999999999998, 'entropy = 0.0\\nsamples = 16\\nvalue = 90.0'),\n",
       " Text(91.56923076923077, 154.01999999999998, 'X[95] <= 63.693\\nentropy = 25.0\\nsamples = 4\\nvalue = 110.0'),\n",
       " Text(80.12307692307692, 135.89999999999998, 'entropy = 0.0\\nsamples = 2\\nvalue = 115.0'),\n",
       " Text(103.01538461538462, 135.89999999999998, 'entropy = 0.0\\nsamples = 2\\nvalue = 105.0'),\n",
       " Text(160.24615384615385, 172.14, 'X[163] <= 59.514\\nentropy = 42.582\\nsamples = 142\\nvalue = 109.049'),\n",
       " Text(137.35384615384615, 154.01999999999998, 'X[90] <= 62.671\\nentropy = 56.25\\nsamples = 8\\nvalue = 97.5'),\n",
       " Text(125.90769230769232, 135.89999999999998, 'entropy = 0.0\\nsamples = 4\\nvalue = 90.0'),\n",
       " Text(148.8, 135.89999999999998, 'entropy = 0.0\\nsamples = 4\\nvalue = 105.0'),\n",
       " Text(183.13846153846154, 154.01999999999998, 'X[97] <= 57.748\\nentropy = 33.327\\nsamples = 134\\nvalue = 109.739'),\n",
       " Text(171.6923076923077, 135.89999999999998, 'entropy = 0.0\\nsamples = 2\\nvalue = 90.0'),\n",
       " Text(194.58461538461538, 135.89999999999998, 'X[187] <= 61.48\\nentropy = 27.839\\nsamples = 132\\nvalue = 110.038'),\n",
       " Text(163.1076923076923, 117.77999999999999, 'X[37] <= 65.679\\nentropy = 15.42\\nsamples = 42\\nvalue = 113.095'),\n",
       " Text(151.66153846153847, 99.66, 'X[162] <= 66.819\\nentropy = 11.177\\nsamples = 39\\nvalue = 113.718'),\n",
       " Text(140.2153846153846, 81.53999999999999, 'X[102] <= 64.718\\nentropy = 7.451\\nsamples = 37\\nvalue = 114.189'),\n",
       " Text(128.76923076923077, 63.41999999999999, 'X[105] <= 66.158\\nentropy = 2.776\\nsamples = 35\\nvalue = 114.714'),\n",
       " Text(117.32307692307693, 45.29999999999998, 'entropy = 0.0\\nsamples = 34\\nvalue = 115.0'),\n",
       " Text(140.2153846153846, 45.29999999999998, 'entropy = 0.0\\nsamples = 1\\nvalue = 105.0'),\n",
       " Text(151.66153846153847, 63.41999999999999, 'entropy = 0.0\\nsamples = 2\\nvalue = 105.0'),\n",
       " Text(163.1076923076923, 81.53999999999999, 'entropy = 0.0\\nsamples = 2\\nvalue = 105.0'),\n",
       " Text(174.55384615384617, 99.66, 'entropy = 0.0\\nsamples = 3\\nvalue = 105.0'),\n",
       " Text(226.06153846153848, 117.77999999999999, 'X[1] <= 61.397\\nentropy = 27.238\\nsamples = 90\\nvalue = 108.611'),\n",
       " Text(197.44615384615386, 99.66, 'X[47] <= 59.266\\nentropy = 14.0\\nsamples = 15\\nvalue = 104.0'),\n",
       " Text(186.0, 81.53999999999999, 'entropy = 0.0\\nsamples = 1\\nvalue = 90.0'),\n",
       " Text(208.8923076923077, 81.53999999999999, 'entropy = 0.0\\nsamples = 14\\nvalue = 105.0'),\n",
       " Text(254.6769230769231, 99.66, 'X[148] <= 62.57\\nentropy = 24.782\\nsamples = 75\\nvalue = 109.533'),\n",
       " Text(231.7846153846154, 81.53999999999999, 'X[26] <= 64.835\\nentropy = 20.761\\nsamples = 34\\nvalue = 112.059'),\n",
       " Text(220.33846153846153, 63.41999999999999, 'X[61] <= 65.613\\nentropy = 16.0\\nsamples = 30\\nvalue = 113.0'),\n",
       " Text(208.8923076923077, 45.29999999999998, 'X[74] <= 59.281\\nentropy = 9.877\\nsamples = 27\\nvalue = 113.889'),\n",
       " Text(197.44615384615386, 27.17999999999998, 'entropy = 0.0\\nsamples = 2\\nvalue = 105.0'),\n",
       " Text(220.33846153846153, 27.17999999999998, 'X[137] <= 59.417\\nentropy = 3.84\\nsamples = 25\\nvalue = 114.6'),\n",
       " Text(208.8923076923077, 9.059999999999974, 'entropy = 0.0\\nsamples = 1\\nvalue = 105.0'),\n",
       " Text(231.7846153846154, 9.059999999999974, 'entropy = 0.0\\nsamples = 24\\nvalue = 115.0'),\n",
       " Text(231.7846153846154, 45.29999999999998, 'entropy = 0.0\\nsamples = 3\\nvalue = 105.0'),\n",
       " Text(243.23076923076923, 63.41999999999999, 'entropy = 0.0\\nsamples = 4\\nvalue = 105.0'),\n",
       " Text(277.5692307692308, 81.53999999999999, 'X[182] <= 60.406\\nentropy = 18.441\\nsamples = 41\\nvalue = 107.439'),\n",
       " Text(266.12307692307695, 63.41999999999999, 'entropy = 0.0\\nsamples = 4\\nvalue = 115.0'),\n",
       " Text(289.0153846153846, 63.41999999999999, 'X[28] <= 61.494\\nentropy = 13.587\\nsamples = 37\\nvalue = 106.622'),\n",
       " Text(266.12307692307695, 45.29999999999998, 'X[90] <= 65.366\\nentropy = 16.0\\nsamples = 5\\nvalue = 113.0'),\n",
       " Text(254.6769230769231, 27.17999999999998, 'entropy = 0.0\\nsamples = 4\\nvalue = 115.0'),\n",
       " Text(277.5692307692308, 27.17999999999998, 'entropy = 0.0\\nsamples = 1\\nvalue = 105.0'),\n",
       " Text(311.9076923076923, 45.29999999999998, 'X[170] <= 59.203\\nentropy = 5.859\\nsamples = 32\\nvalue = 105.625'),\n",
       " Text(300.46153846153845, 27.17999999999998, 'entropy = 0.0\\nsamples = 2\\nvalue = 115.0'),\n",
       " Text(323.3538461538462, 27.17999999999998, 'entropy = 0.0\\nsamples = 30\\nvalue = 105.0')]"
      ]
     },
     "execution_count": 19,
     "metadata": {},
     "output_type": "execute_result"
    },
    {
     "data": {
      "image/png": "[encoded data removed]",
      "text/plain": [
       "<Figure size 432x288 with 1 Axes>"
      ]
     },
     "metadata": {
      "needs_background": "light"
     },
     "output_type": "display_data"
    }
   ],
   "source": [
    "tree.plot_tree(clf)"
   ]
  },
  {
   "cell_type": "code",
   "execution_count": 14,
   "metadata": {},
   "outputs": [
    {
     "data": {
      "text/plain": [
       "RandomForestRegressor(bootstrap=True, criterion='mse', max_depth=None,\n",
       "                      max_features='auto', max_leaf_nodes=None,\n",
       "                      min_impurity_decrease=0.0, min_impurity_split=None,\n",
       "                      min_samples_leaf=1, min_samples_split=2,\n",
       "                      min_weight_fraction_leaf=0.0, n_estimators=10,\n",
       "                      n_jobs=None, oob_score=False, random_state=None,\n",
       "                      verbose=0, warm_start=False)"
      ]
     },
     "execution_count": 14,
     "metadata": {},
     "output_type": "execute_result"
    }
   ],
   "source": [
    "from sklearn.ensemble import RandomForestRegressor\n",
    "\n",
    "model = RandomForestRegressor(n_estimators = 10, random_state = None)\n",
    "model.fit(Train_data,Train_label)"
   ]
  },
  {
   "cell_type": "code",
   "execution_count": 15,
   "metadata": {
    "scrolled": true
   },
   "outputs": [
    {
     "data": {
      "text/plain": [
       "array([112. ,  96.5, 107. , 107. ,  99.5,  93. , 109. , 102. ,  91.5,\n",
       "       106.5,  92.5,  99.5,  90. , 107.5, 111.5, 102.5, 108. ,  92.5,\n",
       "        90. , 107. , 104.5, 106.5, 110. , 110. , 109. , 110. , 100.5,\n",
       "       104. , 107.5, 107. , 102.5, 106. , 109. ,  99. , 107. , 107. ,\n",
       "        95.5, 102.5, 109. , 103.5, 110.5,  96.5, 110. , 109.5, 103. ,\n",
       "       112. , 108. ,  90. , 102. , 105.5,  97.5, 108. , 102.5, 103.5,\n",
       "       108. , 108.5, 100.5, 104.5,  90. ,  95.5, 104. ,  96.5, 100. ,\n",
       "        99. , 106. , 109.5,  92.5, 102.5, 109.5, 106.5, 108. , 114. ,\n",
       "        90. , 110. , 103.5, 110. , 108. , 112. , 108. , 104.5, 110. ,\n",
       "        95. ,  95. , 107.5, 107.5,  99.5,  95. , 106.5, 103. ,  90. ])"
      ]
     },
     "execution_count": 15,
     "metadata": {},
     "output_type": "execute_result"
    }
   ],
   "source": [
    "model.predict(Test_data)"
   ]
  },
  {
   "cell_type": "code",
   "execution_count": 16,
   "metadata": {},
   "outputs": [],
   "source": [
    "#each estimators in random forest\n",
    "#model.estimators_[1]"
   ]
  },
  {
   "cell_type": "code",
   "execution_count": 17,
   "metadata": {},
   "outputs": [],
   "source": [
    "# np.set_printoptions(threshold=np.inf)\n",
    "# model.feature_importances_"
   ]
  },
  {
   "cell_type": "code",
   "execution_count": 18,
   "metadata": {},
   "outputs": [],
   "source": [
    "#display feature importances_\n",
    "# clf.feature_importances_"
   ]
  }
 ],
 "metadata": {
  "kernelspec": {
   "display_name": "Python 3",
   "language": "python",
   "name": "python3"
  },
  "language_info": {
   "codemirror_mode": {
    "name": "ipython",
    "version": 3
   },
   "file_extension": ".py",
   "mimetype": "text/x-python",
   "name": "python",
   "nbconvert_exporter": "python",
   "pygments_lexer": "ipython3",
   "version": "3.7.3"
  }
 },
 "nbformat": 4,
 "nbformat_minor": 2
}
