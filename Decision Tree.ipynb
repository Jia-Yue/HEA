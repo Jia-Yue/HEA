{
 "cells": [
  {
   "cell_type": "code",
   "execution_count": 1,
   "metadata": {},
   "outputs": [],
   "source": [
    "import numpy as np\n",
    "from scipy import stats"
   ]
  },
  {
   "cell_type": "code",
   "execution_count": 2,
   "metadata": {},
   "outputs": [],
   "source": [
    "# Super Parameter\n",
    "# integer required \n",
    "CLocation = 1 # Center Location\n",
    "width = 5 # Width \n",
    "\n",
    "# CLocation -=1  # python arrat start at 0"
   ]
  },
  {
   "cell_type": "code",
   "execution_count": 3,
   "metadata": {},
   "outputs": [],
   "source": [
    "CuRichHEA = np.loadtxt(\"CuRichHEA_iSFE.txt\")\n",
    "EqHEA =  np.loadtxt(\"EqHEA_iSFE.txt\")\n",
    "NiRichHEA =  np.loadtxt(\"NiRichHEA_iSFE.txt\")\n",
    "Input_data = [CuRichHEA,EqHEA,NiRichHEA]"
   ]
  },
  {
   "cell_type": "code",
   "execution_count": 4,
   "metadata": {},
   "outputs": [],
   "source": [
    "class_num,row_num, col_num = np.shape(Input_data)"
   ]
  },
  {
   "cell_type": "code",
   "execution_count": 27,
   "metadata": {},
   "outputs": [],
   "source": [
    "Train_data = [[]for k in range(class_num * col_num)]\n",
    "for i in np.arange(class_num * col_num):\n",
    "    for j in np.arange(int(np.ceil(-width/2)),int(np.ceil(width/2)),1):\n",
    "        Train_data[i].append(Input_data[int(i/100)][:,(i+j)%100])\n",
    "Train_data = np.array(Train_data).reshape(class_num * col_num,-1)"
   ]
  },
  {
   "cell_type": "code",
   "execution_count": 47,
   "metadata": {},
   "outputs": [
    {
     "data": {
      "text/plain": [
       "array([[63.3887, 63.7202, 61.5197, ..., 62.8662, 57.5064, 61.8191],\n",
       "       [65.4667, 64.657 , 62.6772, ..., 62.1268, 57.7987, 62.7874],\n",
       "       [66.5339, 63.5015, 60.3742, ..., 61.1998, 58.8693, 63.4788],\n",
       "       ...,\n",
       "       [60.2634, 61.3227, 61.2815, ..., 59.7003, 58.5271, 61.7887],\n",
       "       [60.7295, 63.6544, 61.5947, ..., 59.657 , 57.3874, 62.7873],\n",
       "       [61.6192, 64.0097, 62.1902, ..., 60.1506, 58.5604, 63.197 ]])"
      ]
     },
     "execution_count": 47,
     "metadata": {},
     "output_type": "execute_result"
    }
   ],
   "source": [
    "CuRichHEA"
   ]
  },
  {
   "cell_type": "code",
   "execution_count": 46,
   "metadata": {
    "scrolled": true
   },
   "outputs": [
    {
     "data": {
      "text/plain": [
       "array([57.5064, 57.7987, 58.8693, 57.8797, 59.5288, 62.5889, 61.72  ,\n",
       "       62.2521, 63.5007, 62.8743, 62.9839, 61.9596, 59.8802, 60.5504,\n",
       "       60.9093, 58.5869, 56.7652, 57.1777, 57.1088, 58.2692, 58.5749,\n",
       "       58.4436, 59.8304, 61.913 , 62.3207, 61.6444, 61.7066, 62.1625,\n",
       "       62.3567, 62.011 , 63.6243, 62.1762, 62.7098, 62.817 , 62.1015,\n",
       "       61.4938, 61.5114, 58.5271, 57.3874, 58.5604, 61.8191, 62.7874,\n",
       "       63.4788, 63.5173, 63.6969, 63.9687, 63.1956, 63.8087, 64.3617,\n",
       "       64.0742, 62.264 , 62.0861, 61.117 , 61.1784, 59.6517, 57.4326,\n",
       "       57.4366, 59.6066, 60.4442, 60.6807, 60.0175, 61.8884, 63.5319,\n",
       "       64.8632, 65.1996, 64.4881, 63.4245, 64.5303, 62.9379, 61.8216,\n",
       "       63.2249, 61.322 , 62.0866, 64.4653, 63.4116, 63.2087, 64.0233,\n",
       "       61.7887, 62.7873, 63.197 , 63.3887, 65.4667, 66.5339, 64.3002,\n",
       "       63.4892, 62.5031, 62.4016, 62.0738, 60.8302, 59.7667, 59.3349,\n",
       "       60.482 , 59.5178, 61.5034, 60.0649, 57.8432, 57.9299, 57.5544,\n",
       "       57.415 , 57.5571, 56.9764, 58.003 , 61.0845, 61.3746, 61.3864,\n",
       "       59.8536, 61.3554, 61.5142, 61.8372, 60.4654, 63.4962, 64.5506,\n",
       "       64.7107, 63.5136, 62.4233, 60.812 , 62.7393, 60.2634, 60.7295,\n",
       "       61.6192, 63.7202, 64.657 , 63.5015, 63.4472, 62.5861, 62.9921,\n",
       "       62.339 , 62.3858, 63.5694, 64.7495, 63.9987, 64.698 , 63.8003,\n",
       "       63.5563, 62.9224, 60.8047, 58.4009, 57.4964, 56.8324, 58.0539,\n",
       "       58.0536, 57.4255, 57.3578, 58.2136, 60.7824, 60.6214, 58.3866,\n",
       "       59.6539, 60.3739, 60.0869, 59.4005, 56.3463, 57.6225, 58.565 ,\n",
       "       57.5738, 59.318 , 60.5211, 61.3227, 63.6544, 64.0097, 61.5197,\n",
       "       62.6772, 60.3742, 60.5762, 60.855 , 61.621 , 61.5374, 63.896 ,\n",
       "       64.3223, 64.6781, 62.8934, 62.9256, 63.7326, 64.0762, 62.7853,\n",
       "       58.3042, 57.4361, 57.9778, 57.1893, 55.6823, 55.4233, 55.6115,\n",
       "       57.6456, 59.1166, 60.2161, 59.169 , 59.4408, 59.2905, 59.1297,\n",
       "       58.842 , 59.6879, 58.4107, 59.8096, 59.465 , 59.92  , 61.4205,\n",
       "       62.6573, 61.2815, 61.5947, 62.1902])"
      ]
     },
     "execution_count": 46,
     "metadata": {},
     "output_type": "execute_result"
    }
   ],
   "source": [
    "# Check data\n",
    "Train_data[0] # CuRichHEA data column 98,99,0,1,2 (CLocation = 0,width =5)"
   ]
  },
  {
   "cell_type": "code",
   "execution_count": 48,
   "metadata": {},
   "outputs": [],
   "source": [
    "# Input data are ******* \n",
    "# Train label is The minimum shear stresses\n",
    "\n",
    "Label_true = np.array([[90]*100,[105]*100,[115]*100]).reshape(-1)"
   ]
  },
  {
   "cell_type": "code",
   "execution_count": 49,
   "metadata": {},
   "outputs": [
    {
     "data": {
      "text/plain": [
       "DecisionTreeRegressor(criterion='mse', max_depth=None, max_features=None,\n",
       "                      max_leaf_nodes=None, min_impurity_decrease=0.0,\n",
       "                      min_impurity_split=None, min_samples_leaf=1,\n",
       "                      min_samples_split=2, min_weight_fraction_leaf=0.0,\n",
       "                      presort=False, random_state=None, splitter='best')"
      ]
     },
     "execution_count": 49,
     "metadata": {},
     "output_type": "execute_result"
    }
   ],
   "source": [
    "# Cross Validation (To be added)\n",
    "from sklearn import tree\n",
    "# Make a decision tree and train\n",
    "clf = tree.DecisionTreeRegressor(random_state=None)\n",
    "clf.fit(Train_data, Label_true)"
   ]
  },
  {
   "cell_type": "code",
   "execution_count": 56,
   "metadata": {
    "scrolled": true
   },
   "outputs": [
    {
     "data": {
      "text/plain": [
       "array([90.])"
      ]
     },
     "execution_count": 56,
     "metadata": {},
     "output_type": "execute_result"
    }
   ],
   "source": [
    "test_data = np.random.rand(200)*10+55\n",
    "clf.predict([test_data])"
   ]
  },
  {
   "cell_type": "code",
   "execution_count": 58,
   "metadata": {},
   "outputs": [
    {
     "data": {
      "text/plain": [
       "[Text(80.636328125, 209.6742857142857, 'X[114] <= 60.104\\nentropy = 105.556\\nsamples = 300\\nvalue = 103.333'),\n",
       " Text(40.300000000000004, 194.14285714285714, 'X[161] <= 62.939\\nentropy = 61.903\\nsamples = 83\\nvalue = 93.976'),\n",
       " Text(24.8, 178.61142857142858, 'X[10] <= 64.529\\nentropy = 15.593\\nsamples = 66\\nvalue = 90.833'),\n",
       " Text(12.4, 163.07999999999998, 'X[187] <= 65.775\\nentropy = 3.461\\nsamples = 64\\nvalue = 90.234'),\n",
       " Text(6.2, 147.54857142857142, 'entropy = 0.0\\nsamples = 63\\nvalue = 90.0'),\n",
       " Text(18.6, 147.54857142857142, 'entropy = 0.0\\nsamples = 1\\nvalue = 105.0'),\n",
       " Text(37.2, 163.07999999999998, 'X[57] <= 63.49\\nentropy = 25.0\\nsamples = 2\\nvalue = 110.0'),\n",
       " Text(31.0, 147.54857142857142, 'entropy = 0.0\\nsamples = 1\\nvalue = 115.0'),\n",
       " Text(43.4, 147.54857142857142, 'entropy = 0.0\\nsamples = 1\\nvalue = 105.0'),\n",
       " Text(55.800000000000004, 178.61142857142858, 'X[125] <= 60.815\\nentropy = 54.498\\nsamples = 17\\nvalue = 106.176'),\n",
       " Text(49.6, 163.07999999999998, 'entropy = 0.0\\nsamples = 2\\nvalue = 90.0'),\n",
       " Text(62.0, 163.07999999999998, 'X[2] <= 61.936\\nentropy = 22.222\\nsamples = 15\\nvalue = 108.333'),\n",
       " Text(55.800000000000004, 147.54857142857142, 'entropy = 0.0\\nsamples = 4\\nvalue = 115.0'),\n",
       " Text(68.2, 147.54857142857142, 'X[162] <= 62.782\\nentropy = 8.264\\nsamples = 11\\nvalue = 105.909'),\n",
       " Text(62.0, 132.01714285714286, 'entropy = 0.0\\nsamples = 1\\nvalue = 115.0'),\n",
       " Text(74.4, 132.01714285714286, 'entropy = 0.0\\nsamples = 10\\nvalue = 105.0'),\n",
       " Text(120.97265625, 194.14285714285714, 'X[30] <= 59.247\\nentropy = 75.951\\nsamples = 217\\nvalue = 106.912'),\n",
       " Text(93.0, 178.61142857142858, 'X[58] <= 64.125\\nentropy = 77.734\\nsamples = 24\\nvalue = 94.375'),\n",
       " Text(86.8, 163.07999999999998, 'X[83] <= 64.089\\nentropy = 19.388\\nsamples = 21\\nvalue = 91.429'),\n",
       " Text(80.60000000000001, 147.54857142857142, 'entropy = 0.0\\nsamples = 19\\nvalue = 90.0'),\n",
       " Text(93.0, 147.54857142857142, 'entropy = 0.0\\nsamples = 2\\nvalue = 105.0'),\n",
       " Text(99.2, 163.07999999999998, 'entropy = 0.0\\nsamples = 3\\nvalue = 115.0'),\n",
       " Text(148.9453125, 178.61142857142858, 'X[176] <= 59.886\\nentropy = 53.752\\nsamples = 193\\nvalue = 108.472'),\n",
       " Text(117.8, 163.07999999999998, 'X[93] <= 61.883\\nentropy = 82.548\\nsamples = 19\\nvalue = 97.368'),\n",
       " Text(105.4, 147.54857142857142, 'X[78] <= 64.073\\nentropy = 17.188\\nsamples = 12\\nvalue = 91.25'),\n",
       " Text(99.2, 132.01714285714286, 'entropy = 0.0\\nsamples = 11\\nvalue = 90.0'),\n",
       " Text(111.60000000000001, 132.01714285714286, 'entropy = 0.0\\nsamples = 1\\nvalue = 105.0'),\n",
       " Text(130.20000000000002, 147.54857142857142, 'X[94] <= 63.08\\nentropy = 20.408\\nsamples = 7\\nvalue = 107.857'),\n",
       " Text(124.0, 132.01714285714286, 'entropy = 0.0\\nsamples = 5\\nvalue = 105.0'),\n",
       " Text(136.4, 132.01714285714286, 'entropy = 0.0\\nsamples = 2\\nvalue = 115.0'),\n",
       " Text(180.09062500000002, 163.07999999999998, 'X[120] <= 59.865\\nentropy = 35.676\\nsamples = 174\\nvalue = 109.684'),\n",
       " Text(155.0, 147.54857142857142, 'X[145] <= 61.537\\nentropy = 66.222\\nsamples = 15\\nvalue = 102.333'),\n",
       " Text(148.8, 132.01714285714286, 'entropy = 0.0\\nsamples = 4\\nvalue = 90.0'),\n",
       " Text(161.20000000000002, 132.01714285714286, 'X[91] <= 64.629\\nentropy = 14.876\\nsamples = 11\\nvalue = 106.818'),\n",
       " Text(155.0, 116.48571428571428, 'entropy = 0.0\\nsamples = 9\\nvalue = 105.0'),\n",
       " Text(167.4, 116.48571428571428, 'entropy = 0.0\\nsamples = 2\\nvalue = 115.0'),\n",
       " Text(205.18125, 147.54857142857142, 'X[65] <= 60.362\\nentropy = 27.216\\nsamples = 159\\nvalue = 110.377'),\n",
       " Text(186.0, 132.01714285714286, 'X[55] <= 59.835\\nentropy = 3.993\\nsamples = 24\\nvalue = 114.583'),\n",
       " Text(179.8, 116.48571428571428, 'entropy = 0.0\\nsamples = 1\\nvalue = 105.0'),\n",
       " Text(192.20000000000002, 116.48571428571428, 'entropy = 0.0\\nsamples = 23\\nvalue = 115.0'),\n",
       " Text(224.3625, 132.01714285714286, 'X[170] <= 61.292\\nentropy = 27.641\\nsamples = 135\\nvalue = 109.63'),\n",
       " Text(204.6, 116.48571428571428, 'X[123] <= 60.997\\nentropy = 8.617\\nsamples = 21\\nvalue = 114.048'),\n",
       " Text(198.4, 100.9542857142857, 'entropy = 0.0\\nsamples = 2\\nvalue = 105.0'),\n",
       " Text(210.8, 100.9542857142857, 'entropy = 0.0\\nsamples = 19\\nvalue = 115.0'),\n",
       " Text(244.125, 116.48571428571428, 'X[102] <= 60.47\\nentropy = 26.887\\nsamples = 114\\nvalue = 108.816'),\n",
       " Text(223.20000000000002, 100.9542857142857, 'X[53] <= 64.543\\nentropy = 14.533\\nsamples = 17\\nvalue = 113.235'),\n",
       " Text(217.0, 85.42285714285714, 'entropy = 0.0\\nsamples = 13\\nvalue = 115.0'),\n",
       " Text(229.4, 85.42285714285714, 'X[187] <= 60.984\\nentropy = 18.75\\nsamples = 4\\nvalue = 107.5'),\n",
       " Text(223.20000000000002, 69.89142857142858, 'entropy = 0.0\\nsamples = 1\\nvalue = 115.0'),\n",
       " Text(235.6, 69.89142857142858, 'entropy = 0.0\\nsamples = 3\\nvalue = 105.0'),\n",
       " Text(265.05, 100.9542857142857, 'X[172] <= 59.564\\nentropy = 25.029\\nsamples = 97\\nvalue = 108.041'),\n",
       " Text(258.85, 85.42285714285714, 'entropy = 0.0\\nsamples = 1\\nvalue = 90.0'),\n",
       " Text(271.25, 85.42285714285714, 'X[67] <= 61.763\\nentropy = 21.864\\nsamples = 96\\nvalue = 108.229'),\n",
       " Text(248.0, 69.89142857142858, 'X[49] <= 62.754\\nentropy = 24.0\\nsamples = 30\\nvalue = 111.0'),\n",
       " Text(241.8, 54.359999999999985, 'entropy = 0.0\\nsamples = 7\\nvalue = 105.0'),\n",
       " Text(254.20000000000002, 54.359999999999985, 'X[68] <= 59.305\\nentropy = 17.013\\nsamples = 23\\nvalue = 112.826'),\n",
       " Text(248.0, 38.82857142857142, 'entropy = 0.0\\nsamples = 3\\nvalue = 105.0'),\n",
       " Text(260.40000000000003, 38.82857142857142, 'X[184] <= 64.555\\nentropy = 9.0\\nsamples = 20\\nvalue = 114.0'),\n",
       " Text(254.20000000000002, 23.29714285714286, 'entropy = 0.0\\nsamples = 18\\nvalue = 115.0'),\n",
       " Text(266.6, 23.29714285714286, 'entropy = 0.0\\nsamples = 2\\nvalue = 105.0'),\n",
       " Text(294.5, 69.89142857142858, 'X[7] <= 60.654\\nentropy = 15.817\\nsamples = 66\\nvalue = 106.97'),\n",
       " Text(279.0, 54.359999999999985, 'X[4] <= 62.512\\nentropy = 18.75\\nsamples = 8\\nvalue = 112.5'),\n",
       " Text(272.8, 38.82857142857142, 'entropy = 0.0\\nsamples = 2\\nvalue = 105.0'),\n",
       " Text(285.2, 38.82857142857142, 'entropy = 0.0\\nsamples = 6\\nvalue = 115.0'),\n",
       " Text(310.0, 54.359999999999985, 'X[112] <= 60.085\\nentropy = 10.612\\nsamples = 58\\nvalue = 106.207'),\n",
       " Text(297.6, 38.82857142857142, 'X[60] <= 59.889\\nentropy = 13.889\\nsamples = 6\\nvalue = 113.333'),\n",
       " Text(291.40000000000003, 23.29714285714286, 'entropy = 0.0\\nsamples = 1\\nvalue = 105.0'),\n",
       " Text(303.8, 23.29714285714286, 'entropy = 0.0\\nsamples = 5\\nvalue = 115.0'),\n",
       " Text(322.40000000000003, 38.82857142857142, 'X[196] <= 60.527\\nentropy = 3.698\\nsamples = 52\\nvalue = 105.385'),\n",
       " Text(316.2, 23.29714285714286, 'X[130] <= 63.304\\nentropy = 22.222\\nsamples = 3\\nvalue = 111.667'),\n",
       " Text(310.0, 7.765714285714267, 'entropy = 0.0\\nsamples = 2\\nvalue = 115.0'),\n",
       " Text(322.40000000000003, 7.765714285714267, 'entropy = 0.0\\nsamples = 1\\nvalue = 105.0'),\n",
       " Text(328.6, 23.29714285714286, 'entropy = 0.0\\nsamples = 49\\nvalue = 105.0')]"
      ]
     },
     "execution_count": 58,
     "metadata": {},
     "output_type": "execute_result"
    },
    {
     "data": {
      "image/png": "[encoded data removed]",
      "text/plain": [
       "<Figure size 432x288 with 1 Axes>"
      ]
     },
     "metadata": {
      "needs_background": "light"
     },
     "output_type": "display_data"
    }
   ],
   "source": [
    "tree.plot_tree(clf)"
   ]
  },
  {
   "cell_type": "code",
   "execution_count": 59,
   "metadata": {},
   "outputs": [
    {
     "data": {
      "text/plain": [
       "RandomForestRegressor(bootstrap=True, criterion='mse', max_depth=None,\n",
       "                      max_features='auto', max_leaf_nodes=None,\n",
       "                      min_impurity_decrease=0.0, min_impurity_split=None,\n",
       "                      min_samples_leaf=1, min_samples_split=2,\n",
       "                      min_weight_fraction_leaf=0.0, n_estimators=10,\n",
       "                      n_jobs=None, oob_score=False, random_state=None,\n",
       "                      verbose=0, warm_start=False)"
      ]
     },
     "execution_count": 59,
     "metadata": {},
     "output_type": "execute_result"
    }
   ],
   "source": [
    "from sklearn.ensemble import RandomForestRegressor\n",
    "\n",
    "model = RandomForestRegressor(n_estimators = 10, random_state = None)\n",
    "model.fit(Train_data,Label_true)"
   ]
  },
  {
   "cell_type": "code",
   "execution_count": 60,
   "metadata": {},
   "outputs": [
    {
     "data": {
      "text/plain": [
       "array([93.])"
      ]
     },
     "execution_count": 60,
     "metadata": {},
     "output_type": "execute_result"
    }
   ],
   "source": [
    "model.predict([test_data])"
   ]
  },
  {
   "cell_type": "code",
   "execution_count": 61,
   "metadata": {},
   "outputs": [],
   "source": [
    "#each estimators in random forest\n",
    "#model.estimators_[1]"
   ]
  },
  {
   "cell_type": "code",
   "execution_count": 62,
   "metadata": {},
   "outputs": [
    {
     "data": {
      "text/plain": [
       "array([0.00098985, 0.        , 0.        , 0.00021324, 0.        ,\n",
       "       0.        , 0.00143967, 0.07902855, 0.00064064, 0.        ,\n",
       "       0.00030058, 0.00677556, 0.0088749 , 0.00028897, 0.00191183,\n",
       "       0.        , 0.00050762, 0.        , 0.00228428, 0.        ,\n",
       "       0.        , 0.00179008, 0.00209947, 0.00322291, 0.00265642,\n",
       "       0.        , 0.00030762, 0.00216289, 0.00022134, 0.        ,\n",
       "       0.00934156, 0.00563386, 0.        , 0.04781878, 0.04245837,\n",
       "       0.00288665, 0.        , 0.        , 0.        , 0.00020858,\n",
       "       0.        , 0.00090566, 0.00025296, 0.00260603, 0.        ,\n",
       "       0.00154014, 0.00335379, 0.01236684, 0.0020734 , 0.        ,\n",
       "       0.        , 0.0005067 , 0.00143551, 0.00162425, 0.00065265,\n",
       "       0.        , 0.00106122, 0.00216964, 0.        , 0.00027325,\n",
       "       0.00054759, 0.00093631, 0.00045184, 0.        , 0.00299048,\n",
       "       0.00179058, 0.        , 0.00065673, 0.00238219, 0.03959978,\n",
       "       0.00588636, 0.        , 0.00115185, 0.01198784, 0.04342499,\n",
       "       0.00208048, 0.        , 0.        , 0.00281313, 0.        ,\n",
       "       0.00029064, 0.05114046, 0.00588962, 0.        , 0.        ,\n",
       "       0.        , 0.00343071, 0.        , 0.00171491, 0.        ,\n",
       "       0.        , 0.        , 0.01492196, 0.00194566, 0.        ,\n",
       "       0.00233565, 0.04090624, 0.00186838, 0.00514985, 0.        ,\n",
       "       0.        , 0.        , 0.00180849, 0.        , 0.00822443,\n",
       "       0.00024474, 0.        , 0.00668085, 0.01588877, 0.        ,\n",
       "       0.06239248, 0.        , 0.00208845, 0.        , 0.        ,\n",
       "       0.00163473, 0.00029665, 0.00026642, 0.        , 0.        ,\n",
       "       0.00294352, 0.00255059, 0.00158383, 0.01103011, 0.00113221,\n",
       "       0.        , 0.        , 0.        , 0.00081957, 0.        ,\n",
       "       0.00444814, 0.        , 0.        , 0.        , 0.        ,\n",
       "       0.        , 0.01099111, 0.0012621 , 0.00686653, 0.00061061,\n",
       "       0.        , 0.        , 0.        , 0.        , 0.00589728,\n",
       "       0.00118875, 0.        , 0.00361819, 0.00281188, 0.        ,\n",
       "       0.00729552, 0.00161655, 0.00014756, 0.00065621, 0.01625111,\n",
       "       0.        , 0.00068206, 0.00126099, 0.        , 0.        ,\n",
       "       0.00144252, 0.06991107, 0.        , 0.01642752, 0.00111953,\n",
       "       0.00290039, 0.00463402, 0.06365295, 0.00377442, 0.00085069,\n",
       "       0.0011275 , 0.00021849, 0.00163939, 0.00103108, 0.        ,\n",
       "       0.        , 0.0487883 , 0.00124614, 0.00037588, 0.00121666,\n",
       "       0.00401957, 0.02068217, 0.        , 0.0002964 , 0.0025761 ,\n",
       "       0.00089423, 0.00361396, 0.00485684, 0.00150571, 0.        ,\n",
       "       0.00059192, 0.00060916, 0.0068739 , 0.00084321, 0.00753713,\n",
       "       0.0091318 , 0.        , 0.01536931, 0.01387107, 0.        ])"
      ]
     },
     "execution_count": 62,
     "metadata": {},
     "output_type": "execute_result"
    }
   ],
   "source": [
    "\n",
    "np.set_printoptions(threshold=np.inf)\n",
    "model.feature_importances_"
   ]
  },
  {
   "cell_type": "code",
   "execution_count": null,
   "metadata": {},
   "outputs": [],
   "source": [
    "#display feature importances_\n",
    "# clf.feature_importances_"
   ]
  }
 ],
 "metadata": {
  "kernelspec": {
   "display_name": "Python 3",
   "language": "python",
   "name": "python3"
  },
  "language_info": {
   "codemirror_mode": {
    "name": "ipython",
    "version": 3
   },
   "file_extension": ".py",
   "mimetype": "text/x-python",
   "name": "python",
   "nbconvert_exporter": "python",
   "pygments_lexer": "ipython3",
   "version": "3.7.3"
  }
 },
 "nbformat": 4,
 "nbformat_minor": 2
}
